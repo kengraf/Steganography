{
 "cells": [
  {
   "cell_type": "markdown",
   "id": "interesting-cruise",
   "metadata": {},
   "source": [
    "# Steganography lesson\n",
    "Hiding messages in images is easy.  Lots of bits and the human eye isn't going to notice.  \n",
    "Could a computer notice?  Let's see.\n",
    "\n",
    "It is best to start with an image that has a range of colors and avoids solid backgrounds.\n",
    "\n",
    "Let's use a depiction of the Charge of the Light Brigage, in real-life spies would use candid shots."
   ]
  },
  {
   "cell_type": "markdown",
   "id": "fallen-edmonton",
   "metadata": {},
   "source": [
    "![](Charge600.jpg)"
   ]
  },
  {
   "cell_type": "code",
   "execution_count": 1,
   "id": "painted-smart",
   "metadata": {},
   "outputs": [
    {
     "name": "stdout",
     "output_type": "stream",
     "text": [
      "Test png->png: Passed\n",
      "Test png->jpeg: Passed\n",
      "Test png->bmp: Passed\n",
      "Test jpeg->png: Passed\n",
      "Test jpeg->jpeg: Passed\n",
      "Test jpeg->bmp: Passed\n",
      "Test bmp->png: Passed\n",
      "Test bmp->jpeg: Passed\n",
      "Test bmp->bmp: Passed\n"
     ]
    },
    {
     "data": {
      "text/plain": [
       "True"
      ]
     },
     "execution_count": 1,
     "metadata": {},
     "output_type": "execute_result"
    }
   ],
   "source": [
    "# Before we start let's make sure the software we need is installed correctly\n",
    "# All the tests should show as 'Passed' \n",
    "import steganography as steg\n",
    "steg.selfTest()"
   ]
  },
  {
   "cell_type": "code",
   "execution_count": 2,
   "id": "residential-moldova",
   "metadata": {},
   "outputs": [],
   "source": [
    "# Time now to conceal our message.\n",
    "# Remember 'steganography' is greek for covered writing.\n",
    "# While spies would encrypt and cover their message, we are only going to cover.\n",
    "\n",
    "imageName = \"Charge600.jpg\"\n",
    "coveredMessage = \"Into the valley of death rode the 600\"\n",
    "colorUsed = 'R'\n",
    "bitUsed = '1'\n",
    "image = steg.encode( imageName, coveredMessage, colorUsed + bitUsed )\n",
    "coverImage = 'files/hidden.png'\n",
    "steg.write(coverImage,image)"
   ]
  },
  {
   "cell_type": "markdown",
   "id": "sufficient-empire",
   "metadata": {},
   "source": [
    "### Run this cell to show the hidden message image\n",
    "![](hidden.png)"
   ]
  },
  {
   "cell_type": "code",
   "execution_count": 3,
   "id": "other-sunset",
   "metadata": {},
   "outputs": [
    {
     "name": "stdout",
     "output_type": "stream",
     "text": [
      "Into the valley of death rode the 600\n"
     ]
    }
   ],
   "source": [
    "# Could you see the differrence?   If yes, then you are super human!\n",
    "# Use the decode function to retrieve the original message\n",
    "\n",
    "message = steg.decode(coverImage, colorUsed + bitUsed )\n",
    "print(message)"
   ]
  },
  {
   "cell_type": "markdown",
   "id": "illegal-newman",
   "metadata": {},
   "source": [
    "## Lesson #1\n",
    "Upload an image you would like to use as your cover image  'your-image-name' \n",
    "Set a short message as your \"your-message\".  Song lyrics, poems, and famous quotes work well.  "
   ]
  },
  {
   "cell_type": "code",
   "execution_count": 4,
   "id": "southern-effectiveness",
   "metadata": {},
   "outputs": [],
   "source": [
    "imageName = \"Charge600.jpg\"\n",
    "coverMessage = \"your-message\"\n",
    "colorUsed = 'R'\n",
    "bitUsed = '1'\n",
    "image = steg.encode( imageName, coverMessage, colorUsed + bitUsed )\n",
    "coverImage = 'files/cover.png'\n",
    "steg.write(coverImage,image)"
   ]
  },
  {
   "cell_type": "markdown",
   "id": "velvet-tobacco",
   "metadata": {},
   "source": [
    "### Run this cell to show your hidden message image\n",
    "![](cover.png)"
   ]
  },
  {
   "cell_type": "code",
   "execution_count": 5,
   "id": "adjusted-darkness",
   "metadata": {},
   "outputs": [
    {
     "name": "stdout",
     "output_type": "stream",
     "text": [
      "your-message\n"
     ]
    }
   ],
   "source": [
    "# 1) Upload the cover.png (output from previous cell) into your Discord channel\n",
    "# 2) Download an image from another channel, then upload to this binder site.\n",
    "# 3) Find the hidden message\n",
    "copiedImage = \"files/cover.png\"\n",
    "message = steg.decode(copiedImage, colorUsed + bitUsed )\n",
    "print(message)"
   ]
  },
  {
   "cell_type": "markdown",
   "id": "institutional-stanley",
   "metadata": {},
   "source": [
    "## Lesson #2\n",
    "Same process as lesson #1, but this time try a different color and bit\n",
    "Note if you use bit 8 you might notice a visual change in the image"
   ]
  },
  {
   "cell_type": "code",
   "execution_count": 7,
   "id": "cloudy-fields",
   "metadata": {},
   "outputs": [],
   "source": [
    "colorUsed = 'R' # Change this to 'B' or 'G'\n",
    "bitUsed = '1' # Change the bit layer used (2 thru 8)\n",
    "image = steg.encode( imageName, coverMessage, colorUsed + bitUsed )\n",
    "coverImage = 'files/cover2.png'\n",
    "steg.write(coverImage,image)"
   ]
  },
  {
   "cell_type": "code",
   "execution_count": 8,
   "id": "middle-patient",
   "metadata": {},
   "outputs": [
    {
     "name": "stdout",
     "output_type": "stream",
     "text": [
      "your-message\n"
     ]
    }
   ],
   "source": [
    "# 1) Upload the cover.png (output from previous cell) into your Discord channel\n",
    "# 2) Download an image from another channel, then upload to this binder site.\n",
    "# 3) Find the hidden message\n",
    "colorUsed = 'R' # You may need a few guesses 'B' or 'G'\n",
    "bitUsed = '1' # You may need a few guesses (2 thru 8)\n",
    "coverImage = 'files/cover2.png'\n",
    "\n",
    "message = steg.decode(coverImage, colorUsed + bitUsed )\n",
    "print(message)"
   ]
  },
  {
   "cell_type": "markdown",
   "id": "welsh-cabinet",
   "metadata": {},
   "source": [
    "## Extra credit \n",
    "The steganography module is not very sophiscated.  Law enforcement might assume you are trying to hide a message read all the low bits and try to see if there is a message.\n",
    "\n",
    "What would you do to change how the bits are placed in the image?\n",
    "\n",
    "1) Write multiple colors  \n",
    "2) Reverse the bit order of the message  \n",
    "3) Start is the middle of (or some random place) image  \n",
    "4) Use an XOR mask  \n",
    "5) Write as a linked list  \n",
    "6) Use base64  \n",
    "...?\n"
   ]
  }
 ],
 "metadata": {
  "kernelspec": {
   "display_name": "Python 3",
   "language": "python",
   "name": "python3"
  },
  "language_info": {
   "codemirror_mode": {
    "name": "ipython",
    "version": 3
   },
   "file_extension": ".py",
   "mimetype": "text/x-python",
   "name": "python",
   "nbconvert_exporter": "python",
   "pygments_lexer": "ipython3",
   "version": "3.7.10"
  }
 },
 "nbformat": 4,
 "nbformat_minor": 5
}
